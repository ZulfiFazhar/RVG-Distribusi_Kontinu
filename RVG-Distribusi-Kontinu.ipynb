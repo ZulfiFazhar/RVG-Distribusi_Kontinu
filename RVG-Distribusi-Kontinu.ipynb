{
 "cells": [
  {
   "cell_type": "markdown",
   "metadata": {},
   "source": [
    "- NIM   : 10122005\n",
    "- Nama  : Zulfi Fadilah Azhar\n",
    "- Kelas : IF 1"
   ]
  },
  {
   "cell_type": "code",
   "execution_count": 94,
   "metadata": {},
   "outputs": [],
   "source": [
    "import pandas as pd"
   ]
  },
  {
   "cell_type": "code",
   "execution_count": 95,
   "metadata": {},
   "outputs": [],
   "source": [
    "# Parameter LCG\n",
    "a = 16421\n",
    "c = 12237\n",
    "m = 2147483647\n",
    "z0 = 10122005"
   ]
  },
  {
   "cell_type": "code",
   "execution_count": 96,
   "metadata": {},
   "outputs": [],
   "source": [
    "# Fungsi LCG\n",
    "def lcg(z, a, c, m):\n",
    "    return (a * z + c) % m\n",
    "\n",
    "def inverse_cdf(U):\n",
    "    return (6*U) ** (1/4)"
   ]
  },
  {
   "cell_type": "code",
   "execution_count": 97,
   "metadata": {},
   "outputs": [],
   "source": [
    "zi = z0\n",
    "rows = []\n",
    "\n",
    "# Menghasilkan 300 data acak\n",
    "for i in range(1, 301):\n",
    "    zi_next = lcg(zi, a, c, m)\n",
    "    ui = zi_next / m\n",
    "    xi = round(inverse_cdf(ui), 5)\n",
    "    rows.append([i, zi, zi_next, round(ui, 5), xi])\n",
    "    zi = zi_next"
   ]
  },
  {
   "cell_type": "code",
   "execution_count": 98,
   "metadata": {},
   "outputs": [
    {
     "data": {
      "text/html": [
       "<div>\n",
       "<style scoped>\n",
       "    .dataframe tbody tr th:only-of-type {\n",
       "        vertical-align: middle;\n",
       "    }\n",
       "\n",
       "    .dataframe tbody tr th {\n",
       "        vertical-align: top;\n",
       "    }\n",
       "\n",
       "    .dataframe thead th {\n",
       "        text-align: right;\n",
       "    }\n",
       "</style>\n",
       "<table border=\"1\" class=\"dataframe\">\n",
       "  <thead>\n",
       "    <tr style=\"text-align: right;\">\n",
       "      <th></th>\n",
       "      <th>i</th>\n",
       "      <th>Zi-1</th>\n",
       "      <th>Zi</th>\n",
       "      <th>Ui</th>\n",
       "      <th>Xi</th>\n",
       "    </tr>\n",
       "  </thead>\n",
       "  <tbody>\n",
       "    <tr>\n",
       "      <th>0</th>\n",
       "      <td>1</td>\n",
       "      <td>10122005</td>\n",
       "      <td>857215523</td>\n",
       "      <td>0.39917</td>\n",
       "      <td>1.24402</td>\n",
       "    </tr>\n",
       "    <tr>\n",
       "      <th>1</th>\n",
       "      <td>2</td>\n",
       "      <td>857215523</td>\n",
       "      <td>1728292982</td>\n",
       "      <td>0.80480</td>\n",
       "      <td>1.48238</td>\n",
       "    </tr>\n",
       "    <tr>\n",
       "      <th>2</th>\n",
       "      <td>3</td>\n",
       "      <td>1728292982</td>\n",
       "      <td>1302674554</td>\n",
       "      <td>0.60661</td>\n",
       "      <td>1.38122</td>\n",
       "    </tr>\n",
       "    <tr>\n",
       "      <th>3</th>\n",
       "      <td>4</td>\n",
       "      <td>1302674554</td>\n",
       "      <td>134255704</td>\n",
       "      <td>0.06252</td>\n",
       "      <td>0.78260</td>\n",
       "    </tr>\n",
       "    <tr>\n",
       "      <th>4</th>\n",
       "      <td>5</td>\n",
       "      <td>134255704</td>\n",
       "      <td>1294705799</td>\n",
       "      <td>0.60289</td>\n",
       "      <td>1.37911</td>\n",
       "    </tr>\n",
       "    <tr>\n",
       "      <th>...</th>\n",
       "      <td>...</td>\n",
       "      <td>...</td>\n",
       "      <td>...</td>\n",
       "      <td>...</td>\n",
       "      <td>...</td>\n",
       "    </tr>\n",
       "    <tr>\n",
       "      <th>295</th>\n",
       "      <td>296</td>\n",
       "      <td>1370717944</td>\n",
       "      <td>783266454</td>\n",
       "      <td>0.36474</td>\n",
       "      <td>1.21628</td>\n",
       "    </tr>\n",
       "    <tr>\n",
       "      <th>296</th>\n",
       "      <td>297</td>\n",
       "      <td>783266454</td>\n",
       "      <td>738891488</td>\n",
       "      <td>0.34407</td>\n",
       "      <td>1.19867</td>\n",
       "    </tr>\n",
       "    <tr>\n",
       "      <th>297</th>\n",
       "      <td>298</td>\n",
       "      <td>738891488</td>\n",
       "      <td>54531135</td>\n",
       "      <td>0.02539</td>\n",
       "      <td>0.62476</td>\n",
       "    </tr>\n",
       "    <tr>\n",
       "      <th>298</th>\n",
       "      <td>299</td>\n",
       "      <td>54531135</td>\n",
       "      <td>2102582920</td>\n",
       "      <td>0.97909</td>\n",
       "      <td>1.55684</td>\n",
       "    </tr>\n",
       "    <tr>\n",
       "      <th>299</th>\n",
       "      <td>300</td>\n",
       "      <td>2102582920</td>\n",
       "      <td>1419548738</td>\n",
       "      <td>0.66103</td>\n",
       "      <td>1.41121</td>\n",
       "    </tr>\n",
       "  </tbody>\n",
       "</table>\n",
       "<p>300 rows × 5 columns</p>\n",
       "</div>"
      ],
      "text/plain": [
       "       i        Zi-1          Zi       Ui       Xi\n",
       "0      1    10122005   857215523  0.39917  1.24402\n",
       "1      2   857215523  1728292982  0.80480  1.48238\n",
       "2      3  1728292982  1302674554  0.60661  1.38122\n",
       "3      4  1302674554   134255704  0.06252  0.78260\n",
       "4      5   134255704  1294705799  0.60289  1.37911\n",
       "..   ...         ...         ...      ...      ...\n",
       "295  296  1370717944   783266454  0.36474  1.21628\n",
       "296  297   783266454   738891488  0.34407  1.19867\n",
       "297  298   738891488    54531135  0.02539  0.62476\n",
       "298  299    54531135  2102582920  0.97909  1.55684\n",
       "299  300  2102582920  1419548738  0.66103  1.41121\n",
       "\n",
       "[300 rows x 5 columns]"
      ]
     },
     "metadata": {},
     "output_type": "display_data"
    }
   ],
   "source": [
    "# Membuat DataFrame\n",
    "df = pd.DataFrame(rows, columns=['i', 'Zi-1', 'Zi', 'Ui', 'Xi'])\n",
    "\n",
    "# Menampilkan tabel\n",
    "display(df)\n"
   ]
  },
  {
   "cell_type": "code",
   "execution_count": 104,
   "metadata": {},
   "outputs": [
    {
     "name": "stdout",
     "output_type": "stream",
     "text": [
      "Data Ui yang duplikat\n"
     ]
    },
    {
     "data": {
      "text/html": [
       "<div>\n",
       "<style scoped>\n",
       "    .dataframe tbody tr th:only-of-type {\n",
       "        vertical-align: middle;\n",
       "    }\n",
       "\n",
       "    .dataframe tbody tr th {\n",
       "        vertical-align: top;\n",
       "    }\n",
       "\n",
       "    .dataframe thead th {\n",
       "        text-align: right;\n",
       "    }\n",
       "</style>\n",
       "<table border=\"1\" class=\"dataframe\">\n",
       "  <thead>\n",
       "    <tr style=\"text-align: right;\">\n",
       "      <th></th>\n",
       "      <th>i</th>\n",
       "      <th>Zi-1</th>\n",
       "      <th>Zi</th>\n",
       "      <th>Ui</th>\n",
       "      <th>Xi</th>\n",
       "    </tr>\n",
       "  </thead>\n",
       "  <tbody>\n",
       "  </tbody>\n",
       "</table>\n",
       "</div>"
      ],
      "text/plain": [
       "Empty DataFrame\n",
       "Columns: [i, Zi-1, Zi, Ui, Xi]\n",
       "Index: []"
      ]
     },
     "metadata": {},
     "output_type": "display_data"
    }
   ],
   "source": [
    "ui_duplikat = df[df.duplicated(['Ui'], keep=False)].sort_values(by='Ui')\n",
    "print(\"Data Ui yang duplikat\")\n",
    "display(ui_duplikat)"
   ]
  },
  {
   "cell_type": "code",
   "execution_count": 106,
   "metadata": {},
   "outputs": [
    {
     "name": "stdout",
     "output_type": "stream",
     "text": [
      "Data Xi yang duplikat\n"
     ]
    },
    {
     "data": {
      "text/html": [
       "<div>\n",
       "<style scoped>\n",
       "    .dataframe tbody tr th:only-of-type {\n",
       "        vertical-align: middle;\n",
       "    }\n",
       "\n",
       "    .dataframe tbody tr th {\n",
       "        vertical-align: top;\n",
       "    }\n",
       "\n",
       "    .dataframe thead th {\n",
       "        text-align: right;\n",
       "    }\n",
       "</style>\n",
       "<table border=\"1\" class=\"dataframe\">\n",
       "  <thead>\n",
       "    <tr style=\"text-align: right;\">\n",
       "      <th></th>\n",
       "      <th>i</th>\n",
       "      <th>Zi-1</th>\n",
       "      <th>Zi</th>\n",
       "      <th>Ui</th>\n",
       "      <th>Xi</th>\n",
       "    </tr>\n",
       "  </thead>\n",
       "  <tbody>\n",
       "  </tbody>\n",
       "</table>\n",
       "</div>"
      ],
      "text/plain": [
       "Empty DataFrame\n",
       "Columns: [i, Zi-1, Zi, Ui, Xi]\n",
       "Index: []"
      ]
     },
     "metadata": {},
     "output_type": "display_data"
    }
   ],
   "source": [
    "xi_duplikat = df[df.duplicated(['Xi'], keep=False)].sort_values(by='Xi')\n",
    "print(\"Data Xi yang duplikat\")\n",
    "display(xi_duplikat)"
   ]
  }
 ],
 "metadata": {
  "kernelspec": {
   "display_name": "Python 3 (ipykernel)",
   "language": "python",
   "name": "python3"
  },
  "language_info": {
   "codemirror_mode": {
    "name": "ipython",
    "version": 3
   },
   "file_extension": ".py",
   "mimetype": "text/x-python",
   "name": "python",
   "nbconvert_exporter": "python",
   "pygments_lexer": "ipython3",
   "version": "3.10.14"
  }
 },
 "nbformat": 4,
 "nbformat_minor": 4
}
